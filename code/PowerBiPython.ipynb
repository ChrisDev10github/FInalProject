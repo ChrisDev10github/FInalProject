{
 "cells": [
  {
   "cell_type": "markdown",
   "metadata": {},
   "source": [
    "This is the Python code that was used to import our machine learning model into our PowerBi report"
   ]
  },
  {
   "cell_type": "code",
   "execution_count": null,
   "metadata": {},
   "outputs": [],
   "source": [
    "import pandas as pd\n",
    "import numpy as np\n",
    "import matplotlib.pyplot as plt\n",
    "from joblib import dump, load\n",
    "from sklearn.linear_model import ElasticNet\n",
    "from sklearn.datasets import make_regression\n",
    "from sklearn.preprocessing import StandardScaler\n",
    "from sklearn.model_selection import train_test_split\n",
    "\n",
    "y = dataset['Unemployement']\n",
    "X = dataset.drop(['Unemployement', 'County', 'SBA Disaster Number', 'State', 'Timestamp','_c0','SBA EIDL Declaration Number','SBA Physical Declaration Number'], axis=1.)\n",
    "\n",
    "loaded_model = load(r'C:\\Dev10\\Assessments\\mikhaela-capstone\\finalmodel.model')\n",
    "dataset['predict']=loaded_model.predict(X)\n",
    "print(dataset)\n",
    "\n",
    "# 'dataset' holds the input data for this script"
   ]
  }
 ],
 "metadata": {
  "language_info": {
   "name": "python"
  },
  "orig_nbformat": 4
 },
 "nbformat": 4,
 "nbformat_minor": 2
}
